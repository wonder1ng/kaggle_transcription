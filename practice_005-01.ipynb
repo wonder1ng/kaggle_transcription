{
 "cells": [
  {
   "cell_type": "markdown",
   "metadata": {},
   "source": [
    "[[이유한님] 캐글 코리아 캐글 스터디 커널 커리큘럼](https://kaggle-kr.tistory.com/32)\n",
    "\n",
    "[Statoil/C-CORE Iceberg Classifier Challenge](https://www.kaggle.com/c/statoil-iceberg-classifier-challenge)\n",
    "\n",
    "[A Complete Introduction and Walkthrough](https://www.kaggle.com/code/willkoehrsen/a-complete-introduction-and-walkthrough)"
   ]
  },
  {
   "cell_type": "markdown",
   "metadata": {},
   "source": [
    "# Costa Rican Household Poverty Level Prediction\n",
    "\n",
    "Welcome to another Kaggle challenge! The objective of the Costa Rican Household Poverty Level Prediction contest is to develop a machine learning model that can predict the poverty level of households using both individual and household characteristics. This \"data science for good\" project offers the opportunity to put our skills towards a task more beneficial to society than getting people to click on ads!\n",
    "\n",
    "In this notebook, we will walk through a complete machine learning solution: first, get introduced to the problem, then perform a thorough Exploratory Data Analysis of the dataset, work on feature engineering, try out multiple machine learning models, select a model, work to optimize the model, and finally, inspect the outputs of the model and draw conclusions. __While this notebook may not get us to the top of the leaderboard, it is meant to be used as a teaching tool to give you a solid foundation to build on for future machine learning projects. Kaggle projects can teach us a lot about machine learning, but several of the strategies used to get to the very top of the leaderboard are not best practices, so here we'll stick to building a very good - although not quite first place - machine learning solution. While Kaggle projects are competitions, I think they are best described as \"a machine learning education\" disguised as a contest!\"\n",
    "\n",
    "If you are looking to follow-up on this work, I have additional work including a [kernel on using Automated Feature Engineering](https://www.kaggle.com/code/willkoehrsen/featuretools-for-good) with [Featuretools](https://featuretools.alteryx.com/en/stable/#minute-quick-start) for this problem (with slightly higher leaderboard score). (If you enjoy my writing style and explanations, I write for [Towards Data Science](https://williamkoehrsen.medium.com/))\n",
    "\n",
    "## Problem and Data Explanation¶\n",
    "The data for this competition is provided in two files: train.csv and test.csv. The training set has 9557 rows and 143 columns while the testing set has 23856 rows and 142 columns. Each row represents **one individual** and each column is a **feature, either unique to the individual, or for the household of the individual**. The training set has one additional column, Target, which represents the poverty level on a 1-4 scale and is the label for the competition. A value of 1 is the most extreme poverty.\n",
    "\n",
    "This is a **supervised multi-class classification machine learning problem**:\n",
    "\n",
    "- **Supervised**: provided with the labels for the training data\n",
    "- **Multi-class classification**: Labels are discrete values with 4 classes\n",
    "\n",
    "### Objective\n",
    "The objective is to predict poverty on a **household level**. We are given data on the individual level with each individual having unique features but also information about their household. In order to create a dataset for the task, we'll have to perform some aggregations of the individual data for each household. Moreover, we have to make a prediction for every individual in the test set, but \"ONLY the heads of household are used in scoring\" which means we want to predict poverty on a household basis.\n",
    "\n",
    "**Important note: while all members of a household should have the same label in the training data, there are errors where individuals in the same household have different labels. In these cases, we are told to use the label for the head of each household, which can be identified by the rows where parentesco1 == 1.0**. We will cover how to correct this in the notebook (for more info take a look at the [competition main discussion](https://www.kaggle.com/c/costa-rican-household-poverty-prediction/discussion/61403)).\n",
    "\n",
    "The `Target` values represent poverty levels as follows:\n",
    "\n",
    "```\n",
    "1 = extreme poverty \n",
    "2 = moderate poverty \n",
    "3 = vulnerable households \n",
    "4 = non vulnerable households\n",
    "```\n",
    "\n",
    "The explanations for all 143 columns can be found in the [competition documentation](https://www.kaggle.com/c/costa-rican-household-poverty-prediction/data), but a few to note are below:\n",
    "\n",
    "- **Id**: a unique identifier for each individual, this should not be a feature that we use!\n",
    "- **idhogar**: a unique identifier for each household. This variable is not a feature, but will be used to group individuals by household as all individuals in a household will have the same identifier.\n",
    "- **parentesco1**: indicates if this person is the head of the household.\n",
    "- **Target**: the label, which should be equal for all members in a household\n",
    "\n",
    "When we make a model, we'll train on a household basis with the label for each household the poverty level of the head of household. The raw data contains a mix of both household and individual characteristics and for the individual data, we will have to find a way to aggregate this for each household. Some of the individuals belong to a household with no head of household which means that unfortunately we can't use this data for training. These issues with the data are completely typical of **real-world** data and hence this problem is great preparation for the datasets you'll encounter in a data science job!\n",
    "\n",
    "### Metric\n"
   ]
  },
  {
   "cell_type": "markdown",
   "metadata": {},
   "source": [
    "# DeepL 번역\n",
    "또 다른 Kaggle 챌린지에 오신 것을 환영합니다! 코스타리카 가구 빈곤 수준 예측 콘테스트의 목표는 개인과 가구의 특성을 모두 사용해 가구의 빈곤 수준을 예측할 수 있는 머신러닝 모델을 개발하는 것입니다. 이 “선한 데이터 과학” 프로젝트는 사람들이 광고를 클릭하게 하는 것보다 사회에 더 유익한 일에 우리의 기술을 투입할 수 있는 기회를 제공합니다!\n",
    "이 노트북에서는 먼저 문제를 소개하고, 데이터 세트에 대한 철저한 탐색적 데이터 분석을 수행하고, 기능 엔지니어링 작업을 수행하고, 여러 머신러닝 모델을 시도하고, 모델을 선택하고, 모델을 최적화하는 작업을 수행하고, 마지막으로 모델의 결과물을 검사하고 결론을 도출하는 등 완전한 머신러닝 솔루션을 안내해 드립니다. 이 노트북으로 순위표의 정상에 오를 수는 없겠지만, 향후 머신 러닝 프로젝트를 위한 탄탄한 기초를 쌓을 수 있는 교육 도구로 사용할 수 있습니다. Kaggle 프로젝트를 통해 머신 러닝에 대해 많은 것을 배울 수 있지만, 리더보드의 최상위에 오르는 데 사용된 몇 가지 전략은 모범 사례는 아니므로 여기서는 1등은 아니지만 매우 우수한 머신 러닝 솔루션을 구축하는 데 집중하겠습니다. Kaggle 프로젝트는 경연 대회이긴 하지만, 경연 대회로 위장한 '머신 러닝 교육'이라고 표현하는 것이 가장 적절하다고 생각합니다!”"
   ]
  },
  {
   "cell_type": "markdown",
   "metadata": {},
   "source": []
  }
 ],
 "metadata": {
  "kernelspec": {
   "display_name": "study",
   "language": "python",
   "name": "python3"
  },
  "language_info": {
   "codemirror_mode": {
    "name": "ipython",
    "version": 3
   },
   "file_extension": ".py",
   "mimetype": "text/x-python",
   "name": "python",
   "nbconvert_exporter": "python",
   "pygments_lexer": "ipython3",
   "version": "3.9.19"
  },
  "orig_nbformat": 4
 },
 "nbformat": 4,
 "nbformat_minor": 2
}
