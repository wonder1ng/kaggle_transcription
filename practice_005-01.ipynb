{
 "cells": [
  {
   "cell_type": "markdown",
   "metadata": {},
   "source": [
    "[[이유한님] 캐글 코리아 캐글 스터디 커널 커리큘럼](https://kaggle-kr.tistory.com/32)\n",
    "\n",
    "[Statoil/C-CORE Iceberg Classifier Challenge](https://www.kaggle.com/c/statoil-iceberg-classifier-challenge)\n",
    "\n",
    "[Keras Model for Beginners (0.210 on LB)+EDA+R&D](https://www.kaggle.com/code/devm2024/keras-model-for-beginners-0-210-on-lb-eda-r-d)"
   ]
  },
  {
   "cell_type": "code",
   "execution_count": 1,
   "metadata": {},
   "outputs": [],
   "source": [
    "# This Python 3 enviroment comes with many helpful analytics libraries installed\n",
    "# It is defined by the kaggle/python docker image: https://github.com/kaggle/docker-python\n",
    "# For example, here's several helpful packages to load in\n",
    "\n",
    "import numpy as np  # linear algebra\n",
    "import pandas as pd # data processing, CSV file I/O (e.g. pd.read_csv)\n",
    "\n",
    "# Input data files are available in the \"../input/\" directiory.\n",
    "# For example, running this (by clicking run or pressing Shift+Enter) will list the files in the input directory\n",
    "\n",
    "from subprocess import check_output\n",
    "# print(check_output([\"ls\", \"../input\"]).decode(\"utf8\"))    # 윈도우 사용으로 주석처리\n",
    "\n",
    "# Any results you write to the current directory are saved as output"
   ]
  },
  {
   "cell_type": "markdown",
   "metadata": {},
   "source": [
    "This kernel is specifically is for Beginners who want's to experiment building CNN using Keras. By using this kernel, you can expect to get good score and also learn keras. Keras is simple frameworks where we can initialize the model and keep stacking the layers we want. It makes building deep neural networks very easy.  \n",
    "  \n",
    "__DeepL 번역__  \n",
    "이 커널은 특히 케라스를 사용하여 CNN을 구축하는 실험을 하고자 하는 초보자를 위한 커널입니다. 이 커널을 사용하면 좋은 점수를 얻고 케라스도 배울 수 있습니다. Keras는 모델을 초기화하고 원하는 레이어를 계속 쌓을 수 있는 간단한 프레임워크입니다. 이를 통해 심층 신경망을 매우 쉽게 구축할 수 있습니다."
   ]
  },
  {
   "cell_type": "code",
   "execution_count": 2,
   "metadata": {},
   "outputs": [],
   "source": [
    "import numpy as np\n",
    "import pandas as pd\n",
    "from sklearn.model_selection import train_test_split\n",
    "from os.path import join as opj\n",
    "from matplotlib import pyplot as plt\n",
    "from mpl_toolkits.mplot3d import Axes3D\n",
    "import pylab\n",
    "# plt.rcParams['figure.figsize'] = 10, 10\n",
    "%matplotlib inline"
   ]
  },
  {
   "cell_type": "code",
   "execution_count": 3,
   "metadata": {},
   "outputs": [],
   "source": [
    "# Load the data.\n",
    "train = pd.read_json(\"./input/005_statoil-iceberg-classifier-challenge/train.json\")"
   ]
  },
  {
   "cell_type": "code",
   "execution_count": 4,
   "metadata": {},
   "outputs": [],
   "source": [
    "test = pd.read_json(\"./input/005_statoil-iceberg-classifier-challenge/test.json\")"
   ]
  },
  {
   "cell_type": "markdown",
   "metadata": {},
   "source": [
    "# Intro about the Data.\n",
    "Sentinet -1 sat is at about 680 Km above earth. Sending pulses of signals at a particular angle of incidence and then recoding it back. Basically those reflected signals are called backscatter. The data we have been given is backscatter coefficient which is the conventional form of backscatter coefficient given by:\n",
    "\n",
    "$\\sigma o(dB) = \\beta o (dB) + 10\\log10[\\sin(ip)/\\sin(ic)]$\n",
    "\n",
    "where\n",
    "\n",
    "1. ip=is angle of incidence for a particular pixel\n",
    "2. 'ic ' is angle of incidence for center of the image\n",
    "3. K =constant.\n",
    "We have been given $\\sigma o$ directly in the data.\n",
    "\n",
    "Now coming to the features of $\\sigma o$\n",
    "\n",
    "Basically $\\sigma o$ varies with the surface on which the signal is scattered from. For example, for a particular angle of incidence, it varies like:\n",
    "\n",
    "- WATER........... SETTLEMENTS........ AGRICULTURE........... BARREN........\n",
    "1.HH: -27.001 ................ 2.70252 ................. -12.7952 ................ -17.25790909\n",
    "\n",
    "2.HV: -28.035 ................ -20.2665 .................. -21.4471 ................. -20.019\n",
    "\n",
    "As you can see, the HH component varies a lot but HV doesn't. **I don't have the data for scatter from ship, but being a metal object, it should vary differently as compared to ice object.**\n",
    "\n",
    "WTF is HH HV?\n",
    "\n",
    "Ok, so this Sentinal Settalite is equivalent to RISTSAT(an Indian remote sensing Sat) and they only Transmit pings in H polarization, **AND NOT IN V polarization**. Those H-pings gets scattered, objects change their polarization and returns as a mix of H and V. **Since Sentinel has only H-transmitter, return signals are of the form of HH and HV only**. Don't ask why VV is not given(because Sentinel don't have V-ping transmitter).\n",
    "\n",
    "Now coming to features, for the purpose of this demo code, I am extracting all two bands and taking avg of them as 3rd channel to create a 3-channel RGB equivalent.\n",
    "\n",
    "# DeepL 번역\n",
    "센티넷 -1 위성은 지구 상공 약 680km에 있습니다. 특정 입사각으로 신호 펄스를 전송한 다음 다시 수신합니다. 기본적으로 반사된 신호를 후방 산란이라고 합니다. 우리에게 주어진 데이터는 후방 산란 계수이며, 이는 전통적인 형태의 후방 산란 계수입니다:\n",
    "\n",
    "$\\sigma o(dB) = \\beta o (dB) + 10\\log10[\\sin(ip)/\\sin(ic)]$\n",
    "\n",
    "여기서\n",
    "\n",
    "1. IP=특정 픽셀에 대한 입사각\n",
    "2. 'ic'는 이미지 중앙의 입사각입니다.\n",
    "3. K =상수.\n",
    "데이터에 직접 $\\sigma o$가 주어졌습니다.\n",
    "\n",
    "이제 $\\sigma o$의 특징에 대해 알아보겠습니다.\n",
    "\n",
    "기본적으로 $\\sigma o$는 신호가 산란되는 표면에 따라 달라집니다. 예를 들어 특정 입사각의 경우 다음과 같이 달라집니다:\n",
    "\n",
    "- WATER........... 정착지........ 농업........... BARREN........\n",
    "1.HH: -27.001 ................ 2.70252 ................. -12.7952 ................ -17.25790909\n",
    "\n",
    "2.HV: -28.035 ................ -20.2665 .................. -21.4471 ................. -20.019\n",
    "\n",
    "보시다시피 HH 구성 요소는 많이 변하지만 HV는 그렇지 않습니다. **선박에서 발생하는 산란에 대한 데이터는 없지만, 금속 물체이기 때문에 얼음 물체와 다르게 달라질 수 있습니다.**\n",
    "\n",
    "WTF가 HH HV인가요?\n",
    "\n",
    "이 센티널 세탈라이트는 인도의 원격탐사 위성인 RISTSAT에 해당하며, H 편광으로만 핑을 전송하고, **V 편광은 전송하지 않습니다**. 이 H-핑은 산란되어 물체가 편광을 바꾸고 H와 V가 혼합된 형태로 되돌아오는데, **센티널은 H-송신기만 있기 때문에 반사 신호는 HH와 HV의 형태로만 되돌아오게 됩니다**. 왜 VV가 주어지지 않는지 묻지 마세요(Sentinel에는 V-ping 송신기가 없기 때문입니다).\n",
    "\n",
    "이제 기능에 대해 설명하자면, 이 데모 코드에서는 두 대역을 모두 추출하고 그 평균을 3채널로 취해 3채널 RGB에 해당하는 것을 만들었습니다."
   ]
  },
  {
   "cell_type": "code",
   "execution_count": 5,
   "metadata": {},
   "outputs": [],
   "source": [
    "# Generate the training data\n",
    "# Create 3 bands having HH, HV and avg of both\n",
    "X_band_1 = np.array([np.array(band).astype(np.float32).reshape(75, 75) for band in train[\"band_1\"]])\n",
    "X_band_2 = np.array([np.array(band).astype(np.float32).reshape(75, 75) for band in train[\"band_2\"]])\n",
    "X_train = np.concatenate([X_band_1[:, :, :, np.newaxis], X_band_2[:, :, :, np.newaxis], ((X_band_1+X_band_2)/2)[:, :, :, np.newaxis]], axis=1)"
   ]
  },
  {
   "cell_type": "markdown",
   "metadata": {},
   "source": [
    "https://www.kaggle.com/code/devm2024/keras-model-for-beginners-0-210-on-lb-eda-r-d"
   ]
  }
 ],
 "metadata": {
  "kernelspec": {
   "display_name": "study",
   "language": "python",
   "name": "python3"
  },
  "language_info": {
   "codemirror_mode": {
    "name": "ipython",
    "version": 3
   },
   "file_extension": ".py",
   "mimetype": "text/x-python",
   "name": "python",
   "nbconvert_exporter": "python",
   "pygments_lexer": "ipython3",
   "version": "3.9.19"
  },
  "orig_nbformat": 4
 },
 "nbformat": 4,
 "nbformat_minor": 2
}
