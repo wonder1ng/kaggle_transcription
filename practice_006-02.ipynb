{
 "cells": [
  {
   "cell_type": "markdown",
   "metadata": {
    "vscode": {
     "languageId": "plaintext"
    }
   },
   "source": [
    "[[이유한님] 캐글 코리아 캐글 스터디 커널 커리큘럼](https://kaggle-kr.tistory.com/32)\n",
    "\n",
    "[TensorFlow Speech Recognition Challenge](https://www.kaggle.com/c/tensorflow-speech-recognition-challenge)\n",
    "\n",
    "[Light-Weight CNN LB 0.74](https://www.kaggle.com/alphasis/light-weight-cnn-lb-0-74)"
   ]
  },
  {
   "cell_type": "markdown",
   "metadata": {},
   "source": [
    "# Preface\n",
    "This notebooks aims to build a light-weight CNN.\n",
    "\n",
    "It uses specgrams of resampled wav files(rate 8000) as inputs.\n",
    "\n",
    "Due to Kaggle cloud hardware limitations, this script is a 'crippled' version of the original one.\n",
    "\n",
    "In order to get LB 0.74, you need to set epoch to 5, set chop_audio(num=1000) and double all Conv layer parameters.\n",
    "\n",
    "Although this script is a slight imrpovement over Alex Ozerin's baseline, I believe by using original wav files(16000 sample rate) one can achieve higher scores.\n",
    "\n",
    "# File Structure\n",
    "This script assumes data are stored in following strcuture:\n",
    "\n",
    "speech\n",
    "\n",
    "├── test\n",
    "\n",
    "│ └── audio #test wavfiles\n",
    "\n",
    "├── train\n",
    "\n",
    "│ ├── audio #train wavfiles\n",
    "\n",
    "└── model #store models\n",
    "\n",
    "│\n",
    "\n",
    "└── out #store sub.csv\n",
    "\n",
    "# Improve This Script\n",
    "Since this is only a light-weight CNN, it's performance is limited. Here are some ways to improve it's performance.\n",
    "\n",
    "1. Use original wav files instead resampled ones.\n",
    "2. Create more 'silence' wav files using chop_audio.\n",
    "3. Build deeper CNN or use RNN.\n",
    "4. Train for longer epochs\n",
    "\n",
    "# After Words\n",
    "It's still a long way to reach LB 0.88.\n",
    "\n",
    "In fact, I doubt CNN would ever reach that high.\n",
    "\n",
    "Feel free to share your ideas in the comment sections about using CNN to label wav files :)\n",
    "\n",
    "# Appendix\n",
    "Thanks **DavidS** and **Alex Ozerin** for their great notebooks!"
   ]
  },
  {
   "cell_type": "code",
   "execution_count": 1,
   "metadata": {},
   "outputs": [],
   "source": [
    "import os\n",
    "import numpy as np\n",
    "from scipy.fftpack import fft\n",
    "from scipy.io import wavfile\n",
    "from scipy import signal\n",
    "from glob import glob\n",
    "import re\n",
    "import pandas as pd\n",
    "import gc\n",
    "# from scipy.io import wavfile\n",
    "\n",
    "from keras import optimizers, losses, activations, models\n",
    "from keras.layers import Convolution2D, Dense, Input, Flatten, Dropout, MaxPooling2D, BatchNormalization\n",
    "from sklearn.model_selection import train_test_split\n",
    "import keras"
   ]
  },
  {
   "cell_type": "markdown",
   "metadata": {},
   "source": [
    "The original sample rate is 16000, and we will resample it to 8000 to reduce data size."
   ]
  },
  {
   "cell_type": "code",
   "execution_count": 2,
   "metadata": {},
   "outputs": [],
   "source": [
    "L = 16000\n",
    "legal_labels = \"yes no up down left right on off stop go silence unknown\".split()\n",
    "\n",
    "# src folders\n",
    "root_path = r\"..\"\n",
    "out_path = r\".\"\n",
    "model_path = r\".\"\n",
    "train_data_path = os.path.join(root_path, \"input\", \"train\", \"audio\")\n",
    "test_data_path = os.path.join(root_path, \"input\", \"test\", \"audio\")"
   ]
  },
  {
   "cell_type": "markdown",
   "metadata": {},
   "source": [
    "Here are custom_fft and log_specgram functions written by **DavidS**."
   ]
  },
  {
   "cell_type": "code",
   "execution_count": 3,
   "metadata": {},
   "outputs": [],
   "source": [
    "def custom_fft(y, fs):\n",
    "    T = 1.0 / fs\n",
    "    N = y.shape[0]\n",
    "    yf = fft(y)\n",
    "    xf = np.linspace(0.0, 1.0 / (2.0 * T), N // 2)\n",
    "    # FFT is simmertrical, so we take just the the first half\n",
    "    # FFT is also complex, to we take just the real part (abs)\n",
    "    vals = 2.0 / N * np.abs(yf[0:N//2])\n",
    "\n",
    "    return xf, vals\n",
    "\n",
    "def log_specgram(audio, sample_rate, window_size=20,\n",
    "                 step_size=10, eps=1e-10):\n",
    "    nperseg = int(round(window_size = sample_rate / 1e3))\n",
    "    noverlap = int(round(step_size * sample_rate / 1e3))\n",
    "    freqs, times, spec = signal.spectrogram(audio,\n",
    "                                            fs=sample_rate,\n",
    "                                            window=\"hann\",\n",
    "                                            nperseg=nperseg,\n",
    "                                            noverlap=noverlap,\n",
    "                                            detrend=False)\n",
    "    \n",
    "    return freqs, times, np.log(spec.T.astype(np.float32) + eps)"
   ]
  },
  {
   "cell_type": "markdown",
   "metadata": {},
   "source": [
    "Following is the utility function to grab all wav files inside train data folder."
   ]
  },
  {
   "cell_type": "code",
   "execution_count": 4,
   "metadata": {},
   "outputs": [],
   "source": [
    "def list_wavs_fname(dirpath, ext=\"wav\"):\n",
    "    print(dirpath)\n",
    "    fpaths = glob(os.path.join(dirpath, r\"*/*\" + ext))\n",
    "    pat = r\".+/(\\w+)/\\w+\\.\" + ext + \"$\"\n",
    "    labels = []\n",
    "    for fpath in fpaths:\n",
    "        r = re.match(pat, fpath)\n",
    "        if r:\n",
    "            labels.append(r.group(1))\n",
    "    pat = r\".+/(\\w+\\.\" + ext + \")$\"\n",
    "    fnames = []\n",
    "    for fpath in fpaths:\n",
    "        r = re.match(pat, fpath)\n",
    "        if r:\n",
    "            fnames.append(r.group(1))\n",
    "    \n",
    "    return labels, fnames"
   ]
  },
  {
   "cell_type": "markdown",
   "metadata": {},
   "source": [
    "**pad_audio** will pad audios that are less than 16000(1 second) with 0s to make them all have the same length.\n",
    "\n",
    "**chop_audio** will chop audios that are larger than 16000(eg. wav files in background noises folder) to 16000 in length. In addition, it will create several chunks out of one large wav files given the parameter 'num'.\n",
    "\n",
    "**label_transform** transform labels into dummies values. It's used in combination with softmax to predict the label."
   ]
  },
  {
   "cell_type": "code",
   "execution_count": 5,
   "metadata": {},
   "outputs": [],
   "source": [
    "def pad_audio(samples):\n",
    "    if len(samples) >= L:\n",
    "        return samples\n",
    "    else:\n",
    "        return np.pad(samples, pad_width=(L - len(samples), 0), mode=\"constant\", constant_values=(0, 0))\n",
    "\n",
    "def chop_audio(samples, L=16000, num=20):\n",
    "    for i in range(num):\n",
    "        beg = np.random.randint(0, len(samples) - L)\n",
    "        yield samples[beg: beg + L]\n",
    "\n",
    "def label_transform(labels):\n",
    "    nlabels = []\n",
    "    for label in labels:\n",
    "        if label == \"_background_noise_\":\n",
    "            nlabels.append(\"silence\")\n",
    "        elif label not in legal_labels:\n",
    "            nlabels.append(\"unknown\")\n",
    "        else:\n",
    "            nlabels.append(label)\n",
    "\n",
    "    return pd.get_dummies(pd.Series(nlabels))"
   ]
  },
  {
   "cell_type": "markdown",
   "metadata": {},
   "source": [
    "https://www.kaggle.com/alphasis/light-weight-cnn-lb-0-74"
   ]
  }
 ],
 "metadata": {
  "kernelspec": {
   "display_name": "study",
   "language": "python",
   "name": "python3"
  },
  "language_info": {
   "codemirror_mode": {
    "name": "ipython",
    "version": 3
   },
   "file_extension": ".py",
   "mimetype": "text/x-python",
   "name": "python",
   "nbconvert_exporter": "python",
   "pygments_lexer": "ipython3",
   "version": "3.9.19"
  }
 },
 "nbformat": 4,
 "nbformat_minor": 2
}
