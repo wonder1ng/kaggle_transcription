{
 "cells": [
  {
   "cell_type": "markdown",
   "metadata": {},
   "source": [
    "[[이유한님] 캐글 코리아 캐글 스터디 커널 커리큘럼](https://kaggle-kr.tistory.com/32)\n",
    "\n",
    "[TensorFlow Speech Recognition Challenge](https://www.kaggle.com/c/tensorflow-speech-recognition-challenge)\n",
    "\n",
    "[Speech representation and data exploration](https://www.kaggle.com/code/davids1992/speech-representation-and-data-exploration)"
   ]
  },
  {
   "cell_type": "code",
   "execution_count": 1,
   "metadata": {},
   "outputs": [],
   "source": [
    "import os\n",
    "import zipfile\n",
    "import py7zr\n",
    "import warnings\n",
    "warnings.filterwarnings(\"ignore\")\n",
    "\n",
    "# dir_path = './input/006_tensorflow-speech-recognition-challenge/'\n",
    "\n",
    "# fp_zip = \"./input/tensorflow-speech-recognition-challenge.zip\"\n",
    "# with zipfile.ZipFile(fp_zip, \"r\") as f:\n",
    "#     f.extractall(dir_path)\n",
    "\n",
    "# from glob import glob\n",
    "# fp_7zs = glob(\"./input/006_tensorflow-speech-recognition-challenge/*.7z\")\n",
    "# for file in glob(\"./input/006_tensorflow-speech-recognition-challenge/*.7z\"):\n",
    "#     with py7zr.SevenZipFile(file, 'r') as f:\n",
    "#         f.extractall(dir_path)\n",
    "\n",
    "# [os.remove(f) for f in fp_7zs + [fp_zip]];"
   ]
  },
  {
   "cell_type": "markdown",
   "metadata": {},
   "source": [
    "Introduction\n",
    "Hello! This is my very first Kernel. It is meant to give a grasp of a problem of speech representation. I'd also like to take a look on a features specific to this dataset.\n",
    "\n",
    "Content:\n",
    "\n",
    "- 1. Visualization of the recordings - input features\n",
    "  - 1.1. Wave and spectrogram\n",
    "  - 1.2. MFCC\n",
    "  - 1.3. Sprectrogram in 3d\n",
    "  - 1.4. Silence removal\n",
    "  - 1.5. Resampling - dimensionality reductions\n",
    "  - 1.6. Features extraction steps\n",
    "- 2. Dataset investigation\n",
    "  - 2.1. Number of files\n",
    "  - 2.2. Mean spectrograms and fft\n",
    "  - 2.3. Deeper into recordings\n",
    "  - 2.4. Length of recordings\n",
    "  - 2.5. Note on Gaussian Mixtures modeling\n",
    "  - 2.6. Frequency components across the words\n",
    "  - 2.7. Anomaly detection\n",
    "- 3. Where to look for the inspiration\n",
    "\n",
    "All we need is here:"
   ]
  },
  {
   "cell_type": "code",
   "execution_count": 2,
   "metadata": {},
   "outputs": [
    {
     "data": {
      "text/html": [
       "        <script type=\"text/javascript\">\n",
       "        window.PlotlyConfig = {MathJaxConfig: 'local'};\n",
       "        if (window.MathJax && window.MathJax.Hub && window.MathJax.Hub.Config) {window.MathJax.Hub.Config({SVG: {font: \"STIX-Web\"}});}\n",
       "        if (typeof require !== 'undefined') {\n",
       "        require.undef(\"plotly\");\n",
       "        requirejs.config({\n",
       "            paths: {\n",
       "                'plotly': ['https://cdn.plot.ly/plotly-2.35.2.min']\n",
       "            }\n",
       "        });\n",
       "        require(['plotly'], function(Plotly) {\n",
       "            window._Plotly = Plotly;\n",
       "        });\n",
       "        }\n",
       "        </script>\n",
       "        "
      ]
     },
     "metadata": {},
     "output_type": "display_data"
    },
    {
     "name": "stdout",
     "output_type": "stream",
     "text": [
      "Using matplotlib backend: module://matplotlib_inline.backend_inline\n"
     ]
    }
   ],
   "source": [
    "import os\n",
    "from os.path import isdir, join\n",
    "from pathlib import Path\n",
    "import pandas as pd\n",
    "\n",
    "#Math\n",
    "import numpy as np\n",
    "from scipy.fftpack import fft\n",
    "from scipy import signal\n",
    "from scipy.io import wavfile\n",
    "# import librosa\n",
    "\"pip install librosa\"\n",
    "\n",
    "from sklearn.decomposition import PCA\n",
    "\n",
    "# Visualization\n",
    "import matplotlib.pyplot as plt\n",
    "import seaborn as sns\n",
    "import IPython.display as ipd\n",
    "import librosa.display\n",
    "\n",
    "import plotly.offline as py\n",
    "py.init_notebook_mode(connected=True)\n",
    "import plotly.graph_objs as go\n",
    "import plotly.tools as tls\n",
    "import pandas as pd\n",
    "\n",
    "%matplotlib"
   ]
  },
  {
   "cell_type": "markdown",
   "metadata": {},
   "source": [
    "# 1. Visualization\n",
    "\n",
    "There are two theories of a human hearing - place ( https://en.wikipedia.org/wiki/Place_theory_(hearing) (frequency-based) and temporal (https://en.wikipedia.org/wiki/Temporal_theory_(hearing) ) In speech recognition, I see two main tendencies - to input [spectrogram](https://en.wikipedia.org/wiki/Spectrogram) (frequencies), and more sophisticated features MFCC - Mel-Frequency Cepstral Coefficients, PLP. You rarely work with raw, temporal data.\n",
    "\n",
    "Let's visualize some recordings!\n",
    "\n",
    "# DeepL 번역\n",
    "\n",
    "인간의 청각에는 장소( https://en.wikipedia.org/wiki/Place_theory_(청각)(주파수 기반)와 시간적(https://en.wikipedia.org/wiki/Temporal_theory_(청각))이라는 두 가지 이론이 있습니다. 음성 인식에서는 [스펙트로그램](https://en.wikipedia.org/wiki/Spectrogram)(주파수)과 보다 정교한 기능인 MFCC(멜-주파수 세프랙 계수, PLP)를 입력하는 두 가지 주요 경향을 볼 수 있습니다. 원시, 시간적 데이터로 작업하는 경우는 거의 없습니다.\n",
    "녹음을 시각화해 봅시다!"
   ]
  },
  {
   "cell_type": "markdown",
   "metadata": {},
   "source": [
    "## 1.1. Wave and spectrogram:\n",
    "\n",
    "Choose and read some file:"
   ]
  },
  {
   "cell_type": "code",
   "execution_count": 3,
   "metadata": {},
   "outputs": [],
   "source": [
    "# train_audio_path = '../input/train/audio/'\n",
    "train_audio_path = './input/006_tensorflow-speech-recognition-challenge/train/audio/'\n",
    "filename = \"./yes/0a7c2a8d_nohash_0.wav\"\n",
    "sample_rate, samples = wavfile.read(str(train_audio_path) + filename)"
   ]
  }
 ],
 "metadata": {
  "kernelspec": {
   "display_name": "tf",
   "language": "python",
   "name": "python3"
  },
  "language_info": {
   "codemirror_mode": {
    "name": "ipython",
    "version": 3
   },
   "file_extension": ".py",
   "mimetype": "text/x-python",
   "name": "python",
   "nbconvert_exporter": "python",
   "pygments_lexer": "ipython3",
   "version": "3.12.8"
  }
 },
 "nbformat": 4,
 "nbformat_minor": 2
}
