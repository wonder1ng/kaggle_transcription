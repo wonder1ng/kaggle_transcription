{
 "cells": [
  {
   "cell_type": "markdown",
   "metadata": {},
   "source": [
    "[[이유한님] 캐글 코리아 캐글 스터디 커널 커리큘럼](https://kaggle-kr.tistory.com/32)\n",
    "\n",
    "[Statoil/C-CORE Iceberg Classifier Challenge](https://www.kaggle.com/c/statoil-iceberg-classifier-challenge)\n",
    "\n",
    "[Submarineering.EVEN BETTER PUBLIC SCORE until now.](https://www.kaggle.com/code/submarineering/submarineering-even-better-public-score-until-now)"
   ]
  },
  {
   "cell_type": "markdown",
   "metadata": {},
   "source": [
    "This is **EVEN better the public score** kernel in the competition until now. I wanted strongly dedicate this kernel to that **scavenger colleagues** that spend the time tracking back the work of other members just to take chance and get any good idea only for his own benefit, but, however they don't share anything, just providing bad comments for those who share with the best will and without breaking the rules.\n",
    "\n",
    "If you do not feel alluded, **please VOTE me UP**.\n",
    "\n",
    "__DeepL 번역__  \n",
    "\n",
    "이것은 지금까지의 경쟁에서 **공개 점수** 커널보다 훨씬 더 나은 커널입니다. 저는 이 커널을 다른 회원의 작업을 추적하여 기회를 잡고 자신의 이익을 위해서만 좋은 아이디어를 얻으려고 시간을 소비하지만, 아무것도 공유하지 않고 선한 의지로 규칙을 어기지 않고 공유하는 사람들에게 나쁜 댓글 만 제공하는 **청소부 동료**에게 강력하게 헌정하고 싶었습니다.\n",
    "\n",
    "암시라고 느끼지 않으시면 **투표해 주세요**."
   ]
  },
  {
   "cell_type": "code",
   "execution_count": 1,
   "metadata": {},
   "outputs": [],
   "source": [
    "import os\n",
    "import numpy as np\n",
    "import pandas as pd\n",
    "from subprocess import check_output\n",
    "# print(check_output([\"ls\", \"../input\"]).decode(\"utf8\"))  # 윈도우 사용으로 주석 처리"
   ]
  },
  {
   "cell_type": "markdown",
   "metadata": {},
   "source": [
    "First thing first@\n",
    "\n",
    "# Credits to the following awesome authors and kernels\n",
    "\n",
    "Author: QuantScientist  \n",
    "File: sub_200_ens_densenet.csv  \n",
    "Link: https://www.kaggle.com/solomonk/pytorch-cnn-densenet-ensemble-lb-0-1538\n",
    "\n",
    "Author: wvadim  \n",
    "File: sub_TF_keras.csv  \n",
    "Link: https://www.kaggle.com/wvadim/keras-tf-lb-0-18\n",
    "\n",
    "Author: Ed Miller  \n",
    "File: sub_fcn.csv  \n",
    "Link: https://www.kaggle.com/bluevalhalla/fully-convolutional-network-lb-0-193\n",
    "\n",
    "Author: Chia-Ta Tsai  \n",
    "File: sub_blend009.csv  \n",
    "Link: https://www.kaggle.com/cttsai/ensembling-gbms-lb-203\n",
    "\n",
    "Author: DeveshMaheshwari  \n",
    "File: sub_keras_beginner.csv  \n",
    "Link: https://www.kaggle.com/devm2024/keras-model-for-beginners-0-210-on-lb-eda-r-d\n",
    "\n",
    "Author: Submarineering  \n",
    "Files: submission38.csv , submission43.csv  \n",
    "Link : https://www.kaggle.com/submarineering/submission38-lb01448\n",
    "\n",
    "Without their truly dedicated efforts, this notebook will not be possible."
   ]
  },
  {
   "cell_type": "markdown",
   "metadata": {},
   "source": [
    "# Data Load\n"
   ]
  },
  {
   "cell_type": "code",
   "execution_count": 2,
   "metadata": {},
   "outputs": [
    {
     "data": {
      "text/plain": [
       "['sample_submission.csv',\n",
       " 'statoil-iceberg-classifier-challenge.zip',\n",
       " 'test.json',\n",
       " 'train.json',\n",
       " 'submission38.csv',\n",
       " 'submission43.csv']"
      ]
     },
     "execution_count": 2,
     "metadata": {},
     "output_type": "execute_result"
    }
   ],
   "source": [
    "sub_path = \"../input/statoil-iceverg-submissions\"\n",
    "sub_path = \"./input/005_statoil-iceberg-classifier-challenge\"   # 내 경로\n",
    "all_files = os.listdir(sub_path)\n",
    "all_files.append('submission38.csv')\n",
    "all_files.append('submission43.csv')\n",
    "all_files"
   ]
  }
 ],
 "metadata": {
  "kernelspec": {
   "display_name": "study",
   "language": "python",
   "name": "python3"
  },
  "language_info": {
   "codemirror_mode": {
    "name": "ipython",
    "version": 3
   },
   "file_extension": ".py",
   "mimetype": "text/x-python",
   "name": "python",
   "nbconvert_exporter": "python",
   "pygments_lexer": "ipython3",
   "version": "3.9.19"
  },
  "orig_nbformat": 4
 },
 "nbformat": 4,
 "nbformat_minor": 2
}
