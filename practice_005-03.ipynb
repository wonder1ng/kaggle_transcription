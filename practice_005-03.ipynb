{
 "cells": [
  {
   "cell_type": "markdown",
   "metadata": {},
   "source": [
    "[[이유한님] 캐글 코리아 캐글 스터디 커널 커리큘럼](https://kaggle-kr.tistory.com/32)\n",
    "\n",
    "[Statoil/C-CORE Iceberg Classifier Challenge](https://www.kaggle.com/c/statoil-iceberg-classifier-challenge)\n",
    "\n",
    "[Submarineering.EVEN BETTER PUBLIC SCORE until now.](https://www.kaggle.com/code/submarineering/submarineering-even-better-public-score-until-now)"
   ]
  },
  {
   "cell_type": "markdown",
   "metadata": {},
   "source": [
    "This is **EVEN better the public score** kernel in the competition until now. I wanted strongly dedicate this kernel to that **scavenger colleagues** that spend the time tracking back the work of other members just to take chance and get any good idea only for his own benefit, but, however they don't share anything, just providing bad comments for those who share with the best will and without breaking the rules.\n",
    "\n",
    "If you do not feel alluded, **please VOTE me UP**.\n",
    "\n",
    "__DeepL 번역__  \n",
    "\n",
    "이것은 지금까지의 경쟁에서 **공개 점수** 커널보다 훨씬 더 나은 커널입니다. 저는 이 커널을 다른 회원의 작업을 추적하여 기회를 잡고 자신의 이익을 위해서만 좋은 아이디어를 얻으려고 시간을 소비하지만, 아무것도 공유하지 않고 선한 의지로 규칙을 어기지 않고 공유하는 사람들에게 나쁜 댓글 만 제공하는 **청소부 동료**에게 강력하게 헌정하고 싶었습니다.\n",
    "\n",
    "암시라고 느끼지 않으시면 **투표해 주세요**."
   ]
  },
  {
   "cell_type": "code",
   "execution_count": 1,
   "metadata": {},
   "outputs": [],
   "source": [
    "import os\n",
    "import numpy as np\n",
    "import pandas as pd\n",
    "from subprocess import check_output\n",
    "# print(check_output([\"ls\", \"../input\"]).decode(\"utf8\"))  # 윈도우 사용으로 주석 처리"
   ]
  },
  {
   "cell_type": "markdown",
   "metadata": {},
   "source": [
    "First thing first@\n",
    "\n",
    "# Credits to the following awesome authors and kernels\n",
    "\n",
    "Author: QuantScientist  \n",
    "File: sub_200_ens_densenet.csv  \n",
    "Link: https://www.kaggle.com/solomonk/pytorch-cnn-densenet-ensemble-lb-0-1538\n",
    "\n",
    "Author: wvadim  \n",
    "File: sub_TF_keras.csv  \n",
    "Link: https://www.kaggle.com/wvadim/keras-tf-lb-0-18\n",
    "\n",
    "Author: Ed Miller  \n",
    "File: sub_fcn.csv  \n",
    "Link: https://www.kaggle.com/bluevalhalla/fully-convolutional-network-lb-0-193\n",
    "\n",
    "Author: Chia-Ta Tsai  \n",
    "File: sub_blend009.csv  \n",
    "Link: https://www.kaggle.com/cttsai/ensembling-gbms-lb-203\n",
    "\n",
    "Author: DeveshMaheshwari  \n",
    "File: sub_keras_beginner.csv  \n",
    "Link: https://www.kaggle.com/devm2024/keras-model-for-beginners-0-210-on-lb-eda-r-d\n",
    "\n",
    "Author: Submarineering  \n",
    "Files: submission38.csv , submission43.csv  \n",
    "Link : https://www.kaggle.com/submarineering/submission38-lb01448\n",
    "\n",
    "Without their truly dedicated efforts, this notebook will not be possible."
   ]
  },
  {
   "cell_type": "markdown",
   "metadata": {},
   "source": [
    "# Data Load\n"
   ]
  },
  {
   "cell_type": "code",
   "execution_count": 2,
   "metadata": {},
   "outputs": [
    {
     "data": {
      "text/plain": [
       "['sample_submission.csv',\n",
       " 'submission38.csv',\n",
       " 'submission43.csv',\n",
       " 'sub_blend009.csv',\n",
       " 'sub_fcn.csv',\n",
       " 'sub_keras_beginner.csv',\n",
       " 'sub_TF_keras.csv',\n",
       " 'test.json',\n",
       " 'train.json',\n",
       " 'submission38.csv',\n",
       " 'submission43.csv']"
      ]
     },
     "execution_count": 2,
     "metadata": {},
     "output_type": "execute_result"
    }
   ],
   "source": [
    "sub_path = \"../input/statoil-iceverg-submissions\"\n",
    "sub_path = \"./input/005_statoil-iceberg-classifier-challenge\"   # 내 경로\n",
    "all_files = os.listdir(sub_path)\n",
    "all_files.append('submission38.csv')\n",
    "all_files.append('submission43.csv')\n",
    "all_files"
   ]
  },
  {
   "cell_type": "code",
   "execution_count": 3,
   "metadata": {},
   "outputs": [
    {
     "data": {
      "text/html": [
       "<div>\n",
       "<style scoped>\n",
       "    .dataframe tbody tr th:only-of-type {\n",
       "        vertical-align: middle;\n",
       "    }\n",
       "\n",
       "    .dataframe tbody tr th {\n",
       "        vertical-align: top;\n",
       "    }\n",
       "\n",
       "    .dataframe thead th {\n",
       "        text-align: right;\n",
       "    }\n",
       "</style>\n",
       "<table border=\"1\" class=\"dataframe\">\n",
       "  <thead>\n",
       "    <tr style=\"text-align: right;\">\n",
       "      <th></th>\n",
       "      <th>id</th>\n",
       "      <th>is_iceberg_0</th>\n",
       "      <th>is_iceberg_1</th>\n",
       "      <th>is_iceberg_2</th>\n",
       "      <th>is_iceberg_3</th>\n",
       "    </tr>\n",
       "  </thead>\n",
       "  <tbody>\n",
       "    <tr>\n",
       "      <th>0</th>\n",
       "      <td>5941774d</td>\n",
       "      <td>0.008171</td>\n",
       "      <td>0.005586</td>\n",
       "      <td>0.008875</td>\n",
       "      <td>0.005586</td>\n",
       "    </tr>\n",
       "    <tr>\n",
       "      <th>1</th>\n",
       "      <td>4023181e</td>\n",
       "      <td>0.638348</td>\n",
       "      <td>0.145927</td>\n",
       "      <td>0.146779</td>\n",
       "      <td>0.031688</td>\n",
       "    </tr>\n",
       "    <tr>\n",
       "      <th>2</th>\n",
       "      <td>b20200e4</td>\n",
       "      <td>0.008061</td>\n",
       "      <td>0.000015</td>\n",
       "      <td>0.048646</td>\n",
       "      <td>0.001000</td>\n",
       "    </tr>\n",
       "    <tr>\n",
       "      <th>3</th>\n",
       "      <td>e7f018bb</td>\n",
       "      <td>0.999506</td>\n",
       "      <td>0.999914</td>\n",
       "      <td>0.999184</td>\n",
       "      <td>0.999000</td>\n",
       "    </tr>\n",
       "    <tr>\n",
       "      <th>4</th>\n",
       "      <td>4371c8c3</td>\n",
       "      <td>0.774739</td>\n",
       "      <td>0.033843</td>\n",
       "      <td>0.277251</td>\n",
       "      <td>0.022151</td>\n",
       "    </tr>\n",
       "  </tbody>\n",
       "</table>\n",
       "</div>"
      ],
      "text/plain": [
       "         id  is_iceberg_0  is_iceberg_1  is_iceberg_2  is_iceberg_3\n",
       "0  5941774d      0.008171      0.005586      0.008875      0.005586\n",
       "1  4023181e      0.638348      0.145927      0.146779      0.031688\n",
       "2  b20200e4      0.008061      0.000015      0.048646      0.001000\n",
       "3  e7f018bb      0.999506      0.999914      0.999184      0.999000\n",
       "4  4371c8c3      0.774739      0.033843      0.277251      0.022151"
      ]
     },
     "execution_count": 3,
     "metadata": {},
     "output_type": "execute_result"
    }
   ],
   "source": [
    "# Read and concatenate submissions\n",
    "# out1 = pd.read_csv(\"./input/005_statoil-iceberg-classifier-challenge/sub_200_ens_densenet.csv\", index_col=0)    # 파일 받는 법을 몰라서 sub_fcn으로 대체\n",
    "out1 = pd.read_csv(\"./input/005_statoil-iceberg-classifier-challenge/sub_fcn.csv\", index_col=0)\n",
    "out2 = pd.read_csv(\"./input/005_statoil-iceberg-classifier-challenge/sub_TF_keras.csv\", index_col=0)\n",
    "out3 = pd.read_csv(\"./input/005_statoil-iceberg-classifier-challenge/submission38.csv\", index_col=0)\n",
    "out4 = pd.read_csv(\"./input/005_statoil-iceberg-classifier-challenge/submission43.csv\", index_col=0)\n",
    "concat_sub = pd.concat([out1, out2, out3, out4], axis=1)\n",
    "cols = list(map(lambda x: \"is_iceberg_\" + str(x), range(len(concat_sub.columns))))\n",
    "concat_sub.columns = cols\n",
    "concat_sub.reset_index(inplace=True)\n",
    "concat_sub.head()"
   ]
  },
  {
   "cell_type": "code",
   "execution_count": 4,
   "metadata": {},
   "outputs": [
    {
     "data": {
      "text/html": [
       "<div>\n",
       "<style scoped>\n",
       "    .dataframe tbody tr th:only-of-type {\n",
       "        vertical-align: middle;\n",
       "    }\n",
       "\n",
       "    .dataframe tbody tr th {\n",
       "        vertical-align: top;\n",
       "    }\n",
       "\n",
       "    .dataframe thead th {\n",
       "        text-align: right;\n",
       "    }\n",
       "</style>\n",
       "<table border=\"1\" class=\"dataframe\">\n",
       "  <thead>\n",
       "    <tr style=\"text-align: right;\">\n",
       "      <th></th>\n",
       "      <th>is_iceberg_0</th>\n",
       "      <th>is_iceberg_1</th>\n",
       "      <th>is_iceberg_2</th>\n",
       "      <th>is_iceberg_3</th>\n",
       "    </tr>\n",
       "  </thead>\n",
       "  <tbody>\n",
       "    <tr>\n",
       "      <th>is_iceberg_0</th>\n",
       "      <td>1.000000</td>\n",
       "      <td>0.789509</td>\n",
       "      <td>0.860398</td>\n",
       "      <td>0.821154</td>\n",
       "    </tr>\n",
       "    <tr>\n",
       "      <th>is_iceberg_1</th>\n",
       "      <td>0.789509</td>\n",
       "      <td>1.000000</td>\n",
       "      <td>0.923848</td>\n",
       "      <td>0.900871</td>\n",
       "    </tr>\n",
       "    <tr>\n",
       "      <th>is_iceberg_2</th>\n",
       "      <td>0.860398</td>\n",
       "      <td>0.923848</td>\n",
       "      <td>1.000000</td>\n",
       "      <td>0.988002</td>\n",
       "    </tr>\n",
       "    <tr>\n",
       "      <th>is_iceberg_3</th>\n",
       "      <td>0.821154</td>\n",
       "      <td>0.900871</td>\n",
       "      <td>0.988002</td>\n",
       "      <td>1.000000</td>\n",
       "    </tr>\n",
       "  </tbody>\n",
       "</table>\n",
       "</div>"
      ],
      "text/plain": [
       "              is_iceberg_0  is_iceberg_1  is_iceberg_2  is_iceberg_3\n",
       "is_iceberg_0      1.000000      0.789509      0.860398      0.821154\n",
       "is_iceberg_1      0.789509      1.000000      0.923848      0.900871\n",
       "is_iceberg_2      0.860398      0.923848      1.000000      0.988002\n",
       "is_iceberg_3      0.821154      0.900871      0.988002      1.000000"
      ]
     },
     "execution_count": 4,
     "metadata": {},
     "output_type": "execute_result"
    }
   ],
   "source": [
    "# check correlation\n",
    "concat_sub.corr(numeric_only=True)"
   ]
  },
  {
   "cell_type": "code",
   "execution_count": 5,
   "metadata": {},
   "outputs": [],
   "source": [
    "# get the data fields ready for stacking\n",
    "concat_sub['is_iceberg_max'] = concat_sub.iloc[:, 1:6].max(axis=1)\n",
    "concat_sub['is_iceberg_min'] = concat_sub.iloc[:, 1:6].min(axis=1)\n",
    "concat_sub['is_iceberg_mean'] = concat_sub.iloc[:, 1:6].mean(axis=1)\n",
    "concat_sub['is_iceberg_median'] = concat_sub.iloc[:, 1:6].median(axis=1)"
   ]
  },
  {
   "cell_type": "code",
   "execution_count": 6,
   "metadata": {},
   "outputs": [],
   "source": [
    "# set up cutoff threshold for lower and upper bounds, easy to twist\n",
    "cutoff_lo = 0.8\n",
    "cutoff_hi = 0.2"
   ]
  },
  {
   "cell_type": "markdown",
   "metadata": {},
   "source": [
    "# Mean Stacking"
   ]
  },
  {
   "cell_type": "code",
   "execution_count": 7,
   "metadata": {},
   "outputs": [],
   "source": [
    "concat_sub['is_iceberg'] = concat_sub['is_iceberg_mean']\n",
    "concat_sub[['id', 'is_iceberg']].to_csv('stack_mean.csv', index=False, float_format='%.6f')"
   ]
  },
  {
   "cell_type": "markdown",
   "metadata": {},
   "source": [
    "# Median Stacking"
   ]
  },
  {
   "cell_type": "code",
   "execution_count": 8,
   "metadata": {},
   "outputs": [],
   "source": [
    "concat_sub['is_iceberg'] = concat_sub['is_iceberg_median']\n",
    "concat_sub[['id', 'is_iceberg']].to_csv('stack_median.csv', index=False, float_format='%.6f')"
   ]
  },
  {
   "cell_type": "markdown",
   "metadata": {},
   "source": [
    "# PushOut + Median Stacking"
   ]
  },
  {
   "cell_type": "code",
   "execution_count": 9,
   "metadata": {},
   "outputs": [],
   "source": [
    "concat_sub['is_iceberg'] = np.where(np.all(concat_sub.iloc[:,1:6] > cutoff_lo, axis=1), 1,\n",
    "                                    np.where(np.all(concat_sub.iloc[:, 1:6] < cutoff_hi, axis=1),\n",
    "                                             0, concat_sub['is_iceberg_median']))\n",
    "concat_sub[['id', 'is_iceberg']].to_csv('stack_pushout_median.csv',\n",
    "                                        index=False, float_format='%.6f')"
   ]
  },
  {
   "cell_type": "markdown",
   "metadata": {},
   "source": [
    "# MinMax + Mean Stacking"
   ]
  },
  {
   "cell_type": "code",
   "execution_count": 10,
   "metadata": {},
   "outputs": [],
   "source": [
    "concat_sub['is_iceberg'] = np.where(np.all(concat_sub.iloc[:,1:6] > cutoff_lo, axis=1),\n",
    "                                    concat_sub['is_iceberg_max'],\n",
    "                                    np.where(np.all(concat_sub.iloc[:, 1:6] < cutoff_hi, axis=1),\n",
    "                                             concat_sub['is_iceberg_min'],\n",
    "                                             concat_sub['is_iceberg_mean']))\n",
    "concat_sub[['id', 'is_iceberg']].to_csv('stack_minmax_mean.csv',\n",
    "                                        index=False, float_format='%.6f')"
   ]
  },
  {
   "cell_type": "markdown",
   "metadata": {},
   "source": [
    "# MinMax + Median Stacking"
   ]
  },
  {
   "cell_type": "code",
   "execution_count": 11,
   "metadata": {},
   "outputs": [],
   "source": [
    "concat_sub['is_iceberg'] = np.where(np.all(concat_sub.iloc[:,1:6] > cutoff_lo, axis=1),\n",
    "                                    concat_sub['is_iceberg_max'],\n",
    "                                    np.where(np.all(concat_sub.iloc[:, 1:6] < cutoff_hi, axis=1),\n",
    "                                             concat_sub['is_iceberg_min'],\n",
    "                                             concat_sub['is_iceberg_median']))\n",
    "concat_sub[['id', 'is_iceberg']].to_csv('stack_minmax_median.csv',\n",
    "                                        index=False, float_format='%.6f')"
   ]
  },
  {
   "cell_type": "markdown",
   "metadata": {},
   "source": [
    "https://www.kaggle.com/code/submarineering/submarineering-even-better-public-score-until-now"
   ]
  }
 ],
 "metadata": {
  "kernelspec": {
   "display_name": "study",
   "language": "python",
   "name": "python3"
  },
  "language_info": {
   "codemirror_mode": {
    "name": "ipython",
    "version": 3
   },
   "file_extension": ".py",
   "mimetype": "text/x-python",
   "name": "python",
   "nbconvert_exporter": "python",
   "pygments_lexer": "ipython3",
   "version": "3.12.7"
  },
  "orig_nbformat": 4
 },
 "nbformat": 4,
 "nbformat_minor": 2
}
